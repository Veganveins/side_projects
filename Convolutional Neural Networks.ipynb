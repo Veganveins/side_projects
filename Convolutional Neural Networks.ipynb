{
 "cells": [
  {
   "cell_type": "markdown",
   "metadata": {},
   "source": [
    "## CNN Notebook -- Classifying Articles of Clothing"
   ]
  },
  {
   "cell_type": "markdown",
   "metadata": {},
   "source": [
    "The whole idea behind a \"neural network\" is to imitate how humans learn. So how do humans learn?\n",
    "\n",
    "I'm certainly no biologist, but the high level version is that a neuron collects signals from input channels named \"dendrites,\" processes information in its nucleus, and then generates an output in a long thin branch called an axon. Humans learn as they change the strength of the bonds between neurons. A neural network is simply the data scientist's attempt to recreate this magnificent learning mechanism mathematically.\n",
    "\n",
    "If we think of the biological nucleus in a neuron as a summation of input values, we can begin to understand how multiplying our input values by certain weights can begin to mimic learning behavior. This _weight times input_ operation assigns variable strength to varying inputs in much the same way that the human brain bonds different neurons together more or less tightly. Oversimply stated, larger sums equate to stronger bonds. Traditional neural networks also include a bias term that can shift the summation value up or down after the weights have been applied. The summation is then filtered through what we in the business call an activation function (common ones include sigmoid (used for binary classification), softmax (common in multi-class classification), relu, etc). This activation function is the crux of deep learning. Without it, the weights and bias would simply apply a linear transformation to the inputs and our intricate network would be nothing more than a high maintenance linear regression model. \n",
    "\n",
    "What most people mean when they talk about a neural network is thousands of these artifical neurons, or summations, chained together. The set of these chaines is termed a hidden layer, the link between the input layer and the output layer. This is the primary architecture used to build basic to advanced networks."
   ]
  },
  {
   "cell_type": "markdown",
   "metadata": {},
   "source": [
    "Taking a step back for a moment, let's clarify what we're talking about when we say \"input values.\" How can a neural netowrk take for example an image and generate a prediction for the type of article of clothing in the image? Networks require significantly more preprocessing of actual inputs than a human. For example, show your neighbor a photo of a city street of jeans and ask them, \"Do you see a stop sign?\" You're neighbor is a low budget binary classifier that will work much faster than any network on that single sample. Where the networks shine though is when you have entire buildings full of pictures of traffic settings and you need to know which ones have stop signs, and which ones don't, for all of them.\n",
    "\n",
    "\n",
    "Unlike in our human-headed example, one cannot just take an image and feed it directly to a network in the same way you could hold up a picture to a human person. The pipeline from image to network input requires some legwork and goes something like this: take an image, say for example of a shoe. The shoe image undergoes a process called \"convolution\" (to be defined later), \"pooling\" (essentially downsampling), and \"flattening\" before it is ready to be fed into a CNN as an input. It sounds complicated, but thanks to Python's many built in libraries all of this can be accomplished using only a few lines of code which we will work through later on in this notebook. Next let's define what each of these terms means in slightly more detail."
   ]
  },
  {
   "cell_type": "markdown",
   "metadata": {},
   "source": [
    "#### Feature Detector"
   ]
  },
  {
   "cell_type": "markdown",
   "metadata": {},
   "source": [
    "Convolutional neural networks (CNN's) use an image kernel to scan a given image and apply a filter to obtain a certain effect (for example, blurring, sharpening, etc). By nature they preserve the spatial relationship between pixels."
   ]
  },
  {
   "cell_type": "markdown",
   "metadata": {},
   "source": [
    "#### Feature Map"
   ]
  },
  {
   "cell_type": "markdown",
   "metadata": {},
   "source": [
    "A feature maps refers to the output of a convolution (the process of running a feature detector over on an actual image). It is the new version of the actual image that was blurred, sharpened, etc depending on the specific feature detector chosen."
   ]
  },
  {
   "cell_type": "markdown",
   "metadata": {},
   "source": [
    "#### Pooling (downsampling layer)"
   ]
  },
  {
   "cell_type": "markdown",
   "metadata": {},
   "source": [
    "Pooling is a common technique applied in efforts to avoid overfitting a network to the training data. At a very high level, pooling reduces the dimensionality of a feature map which improves computational efficiency while preserving the prominent features. Max pooling works by returning the maximum feature response within a given sample size in a feature map. (Min, avg pooling etc are other common methods). For example, an image that is initially 40x40 pixels might become 20x20 after applying pooling. The idea is that the figures in the images will still be identifiable, albeit slightly less clear. This forces the network to learn generalizable patterns rather than highly specific attributes characteristic of the training set."
   ]
  },
  {
   "cell_type": "markdown",
   "metadata": {},
   "source": [
    "#### Flattening"
   ]
  },
  {
   "cell_type": "markdown",
   "metadata": {},
   "source": [
    "By definition the input layer of a neural network expects to be fed a vector of values (rather than a matrix or dataframe). Flattening simply converts the pooled input values into a vector that can be recognized as an input to a CNN! There's no real intuition behind why this is the case; moreso it is the nature of data science to understand what data structures are expected by which algorithms."
   ]
  },
  {
   "cell_type": "markdown",
   "metadata": {},
   "source": [
    "Now that we've covered the basic definitions we need to understand, we can start to load in some sample data and start working on building our very own CNN."
   ]
  },
  {
   "cell_type": "code",
   "execution_count": 132,
   "metadata": {},
   "outputs": [],
   "source": [
    "import pandas as pd\n",
    "import numpy as np\n",
    "import matplotlib.pyplot as plt\n",
    "import seaborn as sns\n",
    "\n",
    "train = pd.read_csv('fashion-mnist_train.csv')\n",
    "test = pd.read_csv('fashion-mnist_test.csv')"
   ]
  },
  {
   "cell_type": "code",
   "execution_count": 136,
   "metadata": {},
   "outputs": [
    {
     "data": {
      "text/plain": [
       "(60000, 785)"
      ]
     },
     "execution_count": 136,
     "metadata": {},
     "output_type": "execute_result"
    }
   ],
   "source": [
    "train.shape"
   ]
  },
  {
   "cell_type": "code",
   "execution_count": 135,
   "metadata": {},
   "outputs": [
    {
     "data": {
      "text/html": [
       "<div>\n",
       "<style scoped>\n",
       "    .dataframe tbody tr th:only-of-type {\n",
       "        vertical-align: middle;\n",
       "    }\n",
       "\n",
       "    .dataframe tbody tr th {\n",
       "        vertical-align: top;\n",
       "    }\n",
       "\n",
       "    .dataframe thead th {\n",
       "        text-align: right;\n",
       "    }\n",
       "</style>\n",
       "<table border=\"1\" class=\"dataframe\">\n",
       "  <thead>\n",
       "    <tr style=\"text-align: right;\">\n",
       "      <th></th>\n",
       "      <th>label</th>\n",
       "      <th>pixel1</th>\n",
       "      <th>pixel2</th>\n",
       "      <th>pixel3</th>\n",
       "      <th>pixel4</th>\n",
       "      <th>pixel5</th>\n",
       "      <th>pixel6</th>\n",
       "      <th>pixel7</th>\n",
       "      <th>pixel8</th>\n",
       "      <th>pixel9</th>\n",
       "      <th>...</th>\n",
       "      <th>pixel775</th>\n",
       "      <th>pixel776</th>\n",
       "      <th>pixel777</th>\n",
       "      <th>pixel778</th>\n",
       "      <th>pixel779</th>\n",
       "      <th>pixel780</th>\n",
       "      <th>pixel781</th>\n",
       "      <th>pixel782</th>\n",
       "      <th>pixel783</th>\n",
       "      <th>pixel784</th>\n",
       "    </tr>\n",
       "  </thead>\n",
       "  <tbody>\n",
       "    <tr>\n",
       "      <th>0</th>\n",
       "      <td>2</td>\n",
       "      <td>0</td>\n",
       "      <td>0</td>\n",
       "      <td>0</td>\n",
       "      <td>0</td>\n",
       "      <td>0</td>\n",
       "      <td>0</td>\n",
       "      <td>0</td>\n",
       "      <td>0</td>\n",
       "      <td>0</td>\n",
       "      <td>...</td>\n",
       "      <td>0</td>\n",
       "      <td>0</td>\n",
       "      <td>0</td>\n",
       "      <td>0</td>\n",
       "      <td>0</td>\n",
       "      <td>0</td>\n",
       "      <td>0</td>\n",
       "      <td>0</td>\n",
       "      <td>0</td>\n",
       "      <td>0</td>\n",
       "    </tr>\n",
       "    <tr>\n",
       "      <th>1</th>\n",
       "      <td>9</td>\n",
       "      <td>0</td>\n",
       "      <td>0</td>\n",
       "      <td>0</td>\n",
       "      <td>0</td>\n",
       "      <td>0</td>\n",
       "      <td>0</td>\n",
       "      <td>0</td>\n",
       "      <td>0</td>\n",
       "      <td>0</td>\n",
       "      <td>...</td>\n",
       "      <td>0</td>\n",
       "      <td>0</td>\n",
       "      <td>0</td>\n",
       "      <td>0</td>\n",
       "      <td>0</td>\n",
       "      <td>0</td>\n",
       "      <td>0</td>\n",
       "      <td>0</td>\n",
       "      <td>0</td>\n",
       "      <td>0</td>\n",
       "    </tr>\n",
       "    <tr>\n",
       "      <th>2</th>\n",
       "      <td>6</td>\n",
       "      <td>0</td>\n",
       "      <td>0</td>\n",
       "      <td>0</td>\n",
       "      <td>0</td>\n",
       "      <td>0</td>\n",
       "      <td>0</td>\n",
       "      <td>0</td>\n",
       "      <td>5</td>\n",
       "      <td>0</td>\n",
       "      <td>...</td>\n",
       "      <td>0</td>\n",
       "      <td>0</td>\n",
       "      <td>0</td>\n",
       "      <td>30</td>\n",
       "      <td>43</td>\n",
       "      <td>0</td>\n",
       "      <td>0</td>\n",
       "      <td>0</td>\n",
       "      <td>0</td>\n",
       "      <td>0</td>\n",
       "    </tr>\n",
       "    <tr>\n",
       "      <th>3</th>\n",
       "      <td>0</td>\n",
       "      <td>0</td>\n",
       "      <td>0</td>\n",
       "      <td>0</td>\n",
       "      <td>1</td>\n",
       "      <td>2</td>\n",
       "      <td>0</td>\n",
       "      <td>0</td>\n",
       "      <td>0</td>\n",
       "      <td>0</td>\n",
       "      <td>...</td>\n",
       "      <td>3</td>\n",
       "      <td>0</td>\n",
       "      <td>0</td>\n",
       "      <td>0</td>\n",
       "      <td>0</td>\n",
       "      <td>1</td>\n",
       "      <td>0</td>\n",
       "      <td>0</td>\n",
       "      <td>0</td>\n",
       "      <td>0</td>\n",
       "    </tr>\n",
       "    <tr>\n",
       "      <th>4</th>\n",
       "      <td>3</td>\n",
       "      <td>0</td>\n",
       "      <td>0</td>\n",
       "      <td>0</td>\n",
       "      <td>0</td>\n",
       "      <td>0</td>\n",
       "      <td>0</td>\n",
       "      <td>0</td>\n",
       "      <td>0</td>\n",
       "      <td>0</td>\n",
       "      <td>...</td>\n",
       "      <td>0</td>\n",
       "      <td>0</td>\n",
       "      <td>0</td>\n",
       "      <td>0</td>\n",
       "      <td>0</td>\n",
       "      <td>0</td>\n",
       "      <td>0</td>\n",
       "      <td>0</td>\n",
       "      <td>0</td>\n",
       "      <td>0</td>\n",
       "    </tr>\n",
       "  </tbody>\n",
       "</table>\n",
       "<p>5 rows × 785 columns</p>\n",
       "</div>"
      ],
      "text/plain": [
       "   label  pixel1  pixel2  pixel3  pixel4  pixel5  pixel6  pixel7  pixel8  \\\n",
       "0      2       0       0       0       0       0       0       0       0   \n",
       "1      9       0       0       0       0       0       0       0       0   \n",
       "2      6       0       0       0       0       0       0       0       5   \n",
       "3      0       0       0       0       1       2       0       0       0   \n",
       "4      3       0       0       0       0       0       0       0       0   \n",
       "\n",
       "   pixel9  ...  pixel775  pixel776  pixel777  pixel778  pixel779  pixel780  \\\n",
       "0       0  ...         0         0         0         0         0         0   \n",
       "1       0  ...         0         0         0         0         0         0   \n",
       "2       0  ...         0         0         0        30        43         0   \n",
       "3       0  ...         3         0         0         0         0         1   \n",
       "4       0  ...         0         0         0         0         0         0   \n",
       "\n",
       "   pixel781  pixel782  pixel783  pixel784  \n",
       "0         0         0         0         0  \n",
       "1         0         0         0         0  \n",
       "2         0         0         0         0  \n",
       "3         0         0         0         0  \n",
       "4         0         0         0         0  \n",
       "\n",
       "[5 rows x 785 columns]"
      ]
     },
     "execution_count": 135,
     "metadata": {},
     "output_type": "execute_result"
    }
   ],
   "source": [
    "train.head()"
   ]
  },
  {
   "cell_type": "markdown",
   "metadata": {},
   "source": [
    "Here we have a training data set with 60,000 samples, which is absolutely _tiny_ to the size of your typical training data for building an industry neural net. The first column contains the correct label (0 - 9) for each of the 60k images in this data set. There are 784 pixels in each image (28 x 28), each containing a value between 0 - 255 (which represents a greyscale value for that pixel)."
   ]
  },
  {
   "cell_type": "code",
   "execution_count": 139,
   "metadata": {},
   "outputs": [
    {
     "data": {
      "text/plain": [
       "array([0, 1, 2, 3, 4, 5, 6, 7, 8, 9])"
      ]
     },
     "execution_count": 139,
     "metadata": {},
     "output_type": "execute_result"
    }
   ],
   "source": [
    "train.label.sort_values().unique()"
   ]
  },
  {
   "cell_type": "markdown",
   "metadata": {},
   "source": [
    "A quick way to visualize some of the training samples along with the label is as follows: "
   ]
  },
  {
   "cell_type": "code",
   "execution_count": 110,
   "metadata": {},
   "outputs": [
    {
     "data": {
      "text/plain": [
       "3.0"
      ]
     },
     "execution_count": 110,
     "metadata": {},
     "output_type": "execute_result"
    },
    {
     "data": {
      "image/png": "[encoded data removed]",
      "text/plain": [
       "<Figure size 432x288 with 1 Axes>"
      ]
     },
     "metadata": {
      "needs_background": "light"
     },
     "output_type": "display_data"
    }
   ],
   "source": [
    "import random\n",
    "\n",
    "\n",
    "training = np.array(train, dtype = 'float32')\n",
    "testing = np.array(test, dtype = 'float32')\n",
    "\n",
    "i = random.randint(1,60000)\n",
    "plt.imshow(training[i, 1:].reshape(28,28))\n",
    "label = training[i, 0]\n",
    "label"
   ]
  },
  {
   "cell_type": "markdown",
   "metadata": {},
   "source": [
    "There is more you could do to explore the dataset further, but for now let's move on to writing some code to build a preliminary neural network."
   ]
  },
  {
   "cell_type": "markdown",
   "metadata": {},
   "source": [
    "#### Training the model"
   ]
  },
  {
   "cell_type": "code",
   "execution_count": 112,
   "metadata": {},
   "outputs": [],
   "source": [
    "from sklearn.model_selection import train_test_split"
   ]
  },
  {
   "cell_type": "code",
   "execution_count": 113,
   "metadata": {},
   "outputs": [],
   "source": [
    "X_train = training[:, 1:]/255\n",
    "y_train = training[:, 0]"
   ]
  },
  {
   "cell_type": "code",
   "execution_count": 114,
   "metadata": {},
   "outputs": [],
   "source": [
    "X_test = testing[:, 1:]/255\n",
    "y_test = testing[:, 0]"
   ]
  },
  {
   "cell_type": "code",
   "execution_count": 115,
   "metadata": {},
   "outputs": [],
   "source": [
    "X_train, X_validate, y_train, y_validate = train_test_split(X_train, y_train, test_size = .2, random_state = 12345)"
   ]
  },
  {
   "cell_type": "code",
   "execution_count": 116,
   "metadata": {},
   "outputs": [],
   "source": [
    "X_train = X_train.reshape(X_train.shape[0], *(28, 28, 1))\n",
    "X_test = X_test.reshape(X_test.shape[0], *(28, 28, 1))\n",
    "X_validate = X_validate.reshape(X_validate.shape[0], *(28,28,1))"
   ]
  },
  {
   "cell_type": "markdown",
   "metadata": {},
   "source": [
    "Let's pause for a moment here to make sure we understand why we've defined a training, validation, and testing set. The importance of understanding why we have these three distinct sets cannot be overstated, and improper use of these data sets can cause seemingly \"awesome\" models to completely faceplant in production."
   ]
  },
  {
   "cell_type": "markdown",
   "metadata": {},
   "source": [
    "#### Overfitting and Underfitting With Machine Learning Algorithms"
   ]
  },
  {
   "cell_type": "markdown",
   "metadata": {},
   "source": [
    "The cause of poor performance in machine learning is either overfitting or underfitting the data. After reading this you will discover the concept of generalization in machine learning and the problems of overfitting and underfitting that go along with it. Let's get started."
   ]
  },
  {
   "cell_type": "code",
   "execution_count": null,
   "metadata": {},
   "outputs": [],
   "source": [
    "#### Approximate a Target Function in Machine Lear"
   ]
  },
  {
   "cell_type": "markdown",
   "metadata": {},
   "source": [
    "#### Training Data"
   ]
  },
  {
   "cell_type": "markdown",
   "metadata": {},
   "source": [
    "dfsdf"
   ]
  },
  {
   "cell_type": "markdown",
   "metadata": {},
   "source": [
    "#### Testing Data (Holdout)"
   ]
  },
  {
   "cell_type": "markdown",
   "metadata": {},
   "source": [
    "fdkjdjflks"
   ]
  },
  {
   "cell_type": "markdown",
   "metadata": {},
   "source": [
    "fjsdkjfls"
   ]
  },
  {
   "cell_type": "markdown",
   "metadata": {},
   "source": [
    "Now that we understand the reason for these splits, let's get to the fun stuff and start _(finally)_ building a model"
   ]
  },
  {
   "cell_type": "code",
   "execution_count": 117,
   "metadata": {},
   "outputs": [],
   "source": [
    "import keras \n",
    "from keras.models import Sequential\n",
    "from keras.layers import Conv2D, MaxPooling2D, Dense, Flatten, Dropout\n",
    "from keras.optimizers import Adam\n",
    "from keras.callbacks import TensorBoard"
   ]
  },
  {
   "cell_type": "code",
   "execution_count": 118,
   "metadata": {},
   "outputs": [],
   "source": [
    "cnn_model = Sequential()"
   ]
  },
  {
   "cell_type": "code",
   "execution_count": 119,
   "metadata": {},
   "outputs": [
    {
     "name": "stderr",
     "output_type": "stream",
     "text": [
      "/Users/jj5jxt/anaconda3/lib/python3.7/site-packages/ipykernel_launcher.py:1: UserWarning: Update your `Conv2D` call to the Keras 2 API: `Conv2D(32, (3, 3), input_shape=(28, 28, 1..., activation=\"relu\")`\n",
      "  \"\"\"Entry point for launching an IPython kernel.\n"
     ]
    }
   ],
   "source": [
    "cnn_model.add(Conv2D(32, 3, 3, input_shape = (28, 28, 1), activation = 'relu'))"
   ]
  },
  {
   "cell_type": "code",
   "execution_count": 120,
   "metadata": {},
   "outputs": [],
   "source": [
    "cnn_model.add(MaxPooling2D(pool_size = (2,2)))"
   ]
  },
  {
   "cell_type": "code",
   "execution_count": 121,
   "metadata": {},
   "outputs": [],
   "source": [
    "cnn_model.add(Flatten())"
   ]
  },
  {
   "cell_type": "code",
   "execution_count": 122,
   "metadata": {},
   "outputs": [
    {
     "name": "stderr",
     "output_type": "stream",
     "text": [
      "/Users/jj5jxt/anaconda3/lib/python3.7/site-packages/ipykernel_launcher.py:1: UserWarning: Update your `Dense` call to the Keras 2 API: `Dense(activation=\"relu\", units=32)`\n",
      "  \"\"\"Entry point for launching an IPython kernel.\n"
     ]
    }
   ],
   "source": [
    "cnn_model.add(Dense(output_dim = 32, activation = 'relu'))"
   ]
  },
  {
   "cell_type": "code",
   "execution_count": 123,
   "metadata": {},
   "outputs": [
    {
     "name": "stderr",
     "output_type": "stream",
     "text": [
      "/Users/jj5jxt/anaconda3/lib/python3.7/site-packages/ipykernel_launcher.py:1: UserWarning: Update your `Dense` call to the Keras 2 API: `Dense(activation=\"softmax\", units=10)`\n",
      "  \"\"\"Entry point for launching an IPython kernel.\n"
     ]
    }
   ],
   "source": [
    "cnn_model.add(Dense(output_dim = 10, activation = 'softmax'))"
   ]
  },
  {
   "cell_type": "code",
   "execution_count": 124,
   "metadata": {},
   "outputs": [],
   "source": [
    "cnn_model.compile(loss = 'sparse_categorical_crossentropy', optimizer = Adam(lr = 0.001), metrics = ['accuracy'])"
   ]
  },
  {
   "cell_type": "code",
   "execution_count": 125,
   "metadata": {},
   "outputs": [],
   "source": [
    "epochs = 50"
   ]
  },
  {
   "cell_type": "code",
   "execution_count": 126,
   "metadata": {},
   "outputs": [
    {
     "name": "stderr",
     "output_type": "stream",
     "text": [
      "/Users/jj5jxt/anaconda3/lib/python3.7/site-packages/ipykernel_launcher.py:5: UserWarning: The `nb_epoch` argument in `fit` has been renamed `epochs`.\n",
      "  \"\"\"\n"
     ]
    },
    {
     "name": "stdout",
     "output_type": "stream",
     "text": [
      "Train on 48000 samples, validate on 12000 samples\n",
      "Epoch 1/50\n",
      "48000/48000 [==============================] - 5s 95us/step - loss: 0.7963 - acc: 0.7381 - val_loss: 0.4930 - val_acc: 0.8293\n",
      "Epoch 2/50\n",
      "48000/48000 [==============================] - 4s 91us/step - loss: 0.4420 - acc: 0.8469 - val_loss: 0.4069 - val_acc: 0.8577\n",
      "Epoch 3/50\n",
      "48000/48000 [==============================] - 4s 91us/step - loss: 0.3858 - acc: 0.8638 - val_loss: 0.3734 - val_acc: 0.8710\n",
      "Epoch 4/50\n",
      "48000/48000 [==============================] - 4s 92us/step - loss: 0.3538 - acc: 0.8767 - val_loss: 0.3423 - val_acc: 0.8842\n",
      "Epoch 5/50\n",
      "48000/48000 [==============================] - 4s 90us/step - loss: 0.3292 - acc: 0.8860 - val_loss: 0.3245 - val_acc: 0.8848\n",
      "Epoch 6/50\n",
      "48000/48000 [==============================] - 4s 91us/step - loss: 0.3137 - acc: 0.8912 - val_loss: 0.3209 - val_acc: 0.8869\n",
      "Epoch 7/50\n",
      "48000/48000 [==============================] - 4s 91us/step - loss: 0.2985 - acc: 0.8964 - val_loss: 0.3084 - val_acc: 0.8920\n",
      "Epoch 8/50\n",
      "48000/48000 [==============================] - 4s 92us/step - loss: 0.2883 - acc: 0.8986 - val_loss: 0.2987 - val_acc: 0.8958\n",
      "Epoch 9/50\n",
      "48000/48000 [==============================] - 4s 91us/step - loss: 0.2737 - acc: 0.9040 - val_loss: 0.2905 - val_acc: 0.8977\n",
      "Epoch 10/50\n",
      "48000/48000 [==============================] - 4s 91us/step - loss: 0.2663 - acc: 0.9067 - val_loss: 0.2832 - val_acc: 0.9006\n",
      "Epoch 11/50\n",
      "48000/48000 [==============================] - 4s 92us/step - loss: 0.2573 - acc: 0.9094 - val_loss: 0.2782 - val_acc: 0.9014\n",
      "Epoch 12/50\n",
      "48000/48000 [==============================] - 4s 90us/step - loss: 0.2530 - acc: 0.9100 - val_loss: 0.2782 - val_acc: 0.9043\n",
      "Epoch 13/50\n",
      "48000/48000 [==============================] - 4s 91us/step - loss: 0.2466 - acc: 0.9130 - val_loss: 0.2714 - val_acc: 0.9040\n",
      "Epoch 14/50\n",
      "48000/48000 [==============================] - 4s 90us/step - loss: 0.2393 - acc: 0.9150 - val_loss: 0.2844 - val_acc: 0.8981\n",
      "Epoch 15/50\n",
      "48000/48000 [==============================] - 4s 90us/step - loss: 0.2322 - acc: 0.9175 - val_loss: 0.2633 - val_acc: 0.9057\n",
      "Epoch 16/50\n",
      "48000/48000 [==============================] - 4s 90us/step - loss: 0.2269 - acc: 0.9188 - val_loss: 0.2589 - val_acc: 0.9077\n",
      "Epoch 17/50\n",
      "48000/48000 [==============================] - 4s 90us/step - loss: 0.2218 - acc: 0.9209 - val_loss: 0.2655 - val_acc: 0.9073\n",
      "Epoch 18/50\n",
      "48000/48000 [==============================] - 4s 90us/step - loss: 0.2159 - acc: 0.9233 - val_loss: 0.2584 - val_acc: 0.9067\n",
      "Epoch 19/50\n",
      "48000/48000 [==============================] - 4s 90us/step - loss: 0.2095 - acc: 0.9251 - val_loss: 0.2605 - val_acc: 0.9092\n",
      "Epoch 20/50\n",
      "48000/48000 [==============================] - 4s 90us/step - loss: 0.2056 - acc: 0.9274 - val_loss: 0.2599 - val_acc: 0.9093\n",
      "Epoch 21/50\n",
      "48000/48000 [==============================] - 4s 89us/step - loss: 0.2032 - acc: 0.9272 - val_loss: 0.2561 - val_acc: 0.9073\n",
      "Epoch 22/50\n",
      "48000/48000 [==============================] - 4s 89us/step - loss: 0.1973 - acc: 0.9298 - val_loss: 0.2537 - val_acc: 0.9108\n",
      "Epoch 23/50\n",
      "48000/48000 [==============================] - 4s 90us/step - loss: 0.1905 - acc: 0.9326 - val_loss: 0.2513 - val_acc: 0.9101\n",
      "Epoch 24/50\n",
      "48000/48000 [==============================] - 4s 90us/step - loss: 0.1853 - acc: 0.9350 - val_loss: 0.2651 - val_acc: 0.9066\n",
      "Epoch 25/50\n",
      "48000/48000 [==============================] - 4s 89us/step - loss: 0.1813 - acc: 0.9358 - val_loss: 0.2530 - val_acc: 0.9103\n",
      "Epoch 26/50\n",
      "48000/48000 [==============================] - 4s 90us/step - loss: 0.1781 - acc: 0.9376 - val_loss: 0.2555 - val_acc: 0.9088\n",
      "Epoch 27/50\n",
      "48000/48000 [==============================] - 4s 91us/step - loss: 0.1758 - acc: 0.9377 - val_loss: 0.2553 - val_acc: 0.9106\n",
      "Epoch 28/50\n",
      "48000/48000 [==============================] - 4s 91us/step - loss: 0.1740 - acc: 0.9382 - val_loss: 0.2467 - val_acc: 0.9134\n",
      "Epoch 29/50\n",
      "48000/48000 [==============================] - 4s 92us/step - loss: 0.1681 - acc: 0.9405 - val_loss: 0.2469 - val_acc: 0.9133\n",
      "Epoch 30/50\n",
      "48000/48000 [==============================] - 4s 91us/step - loss: 0.1635 - acc: 0.9424 - val_loss: 0.2592 - val_acc: 0.9098\n",
      "Epoch 31/50\n",
      "48000/48000 [==============================] - 4s 92us/step - loss: 0.1597 - acc: 0.9437 - val_loss: 0.2482 - val_acc: 0.9137\n",
      "Epoch 32/50\n",
      "48000/48000 [==============================] - 4s 90us/step - loss: 0.1552 - acc: 0.9456 - val_loss: 0.2500 - val_acc: 0.9137\n",
      "Epoch 33/50\n",
      "48000/48000 [==============================] - 4s 91us/step - loss: 0.1564 - acc: 0.9446 - val_loss: 0.2483 - val_acc: 0.9141\n",
      "Epoch 34/50\n",
      "48000/48000 [==============================] - 4s 90us/step - loss: 0.1487 - acc: 0.9484 - val_loss: 0.2541 - val_acc: 0.9121\n",
      "Epoch 35/50\n",
      "48000/48000 [==============================] - 4s 91us/step - loss: 0.1459 - acc: 0.9495 - val_loss: 0.2626 - val_acc: 0.9093\n",
      "Epoch 36/50\n",
      "48000/48000 [==============================] - 4s 91us/step - loss: 0.1446 - acc: 0.9493 - val_loss: 0.2528 - val_acc: 0.9142\n",
      "Epoch 37/50\n",
      "48000/48000 [==============================] - 4s 90us/step - loss: 0.1418 - acc: 0.9499 - val_loss: 0.2540 - val_acc: 0.9144\n",
      "Epoch 38/50\n",
      "48000/48000 [==============================] - 4s 91us/step - loss: 0.1364 - acc: 0.9524 - val_loss: 0.2558 - val_acc: 0.9146\n",
      "Epoch 39/50\n",
      "48000/48000 [==============================] - 4s 90us/step - loss: 0.1336 - acc: 0.9537 - val_loss: 0.2582 - val_acc: 0.9126\n",
      "Epoch 40/50\n",
      "48000/48000 [==============================] - 4s 89us/step - loss: 0.1305 - acc: 0.9539 - val_loss: 0.2708 - val_acc: 0.9102\n",
      "Epoch 41/50\n",
      "48000/48000 [==============================] - 4s 89us/step - loss: 0.1326 - acc: 0.9534 - val_loss: 0.2641 - val_acc: 0.9117\n",
      "Epoch 42/50\n",
      "48000/48000 [==============================] - 4s 90us/step - loss: 0.1248 - acc: 0.9570 - val_loss: 0.2571 - val_acc: 0.9148\n",
      "Epoch 43/50\n",
      "48000/48000 [==============================] - 4s 93us/step - loss: 0.1228 - acc: 0.9578 - val_loss: 0.2605 - val_acc: 0.9128\n",
      "Epoch 44/50\n",
      "48000/48000 [==============================] - 4s 91us/step - loss: 0.1202 - acc: 0.9591 - val_loss: 0.2661 - val_acc: 0.9129\n",
      "Epoch 45/50\n",
      "48000/48000 [==============================] - 4s 91us/step - loss: 0.1147 - acc: 0.9608 - val_loss: 0.2637 - val_acc: 0.9147\n",
      "Epoch 46/50\n",
      "48000/48000 [==============================] - 4s 92us/step - loss: 0.1127 - acc: 0.9626 - val_loss: 0.2868 - val_acc: 0.9073\n",
      "Epoch 47/50\n",
      "48000/48000 [==============================] - 4s 92us/step - loss: 0.1106 - acc: 0.9622 - val_loss: 0.2818 - val_acc: 0.9100\n",
      "Epoch 48/50\n",
      "48000/48000 [==============================] - 4s 92us/step - loss: 0.1102 - acc: 0.9617 - val_loss: 0.2932 - val_acc: 0.9067\n",
      "Epoch 49/50\n",
      "48000/48000 [==============================] - 4s 92us/step - loss: 0.1065 - acc: 0.9630 - val_loss: 0.2706 - val_acc: 0.9131\n",
      "Epoch 50/50\n",
      "48000/48000 [==============================] - 4s 91us/step - loss: 0.1017 - acc: 0.9661 - val_loss: 0.2787 - val_acc: 0.9117\n"
     ]
    },
    {
     "data": {
      "text/plain": [
       "<keras.callbacks.History at 0x7f8110952390>"
      ]
     },
     "execution_count": 126,
     "metadata": {},
     "output_type": "execute_result"
    }
   ],
   "source": [
    "cnn_model.fit(X_train, y_train,\n",
    "             batch_size = 512,\n",
    "             nb_epoch = epochs,\n",
    "             verbose = 1, \n",
    "             validation_data = (X_validate, y_validate))"
   ]
  },
  {
   "cell_type": "markdown",
   "metadata": {},
   "source": [
    "#### Evaluating the Model"
   ]
  },
  {
   "cell_type": "code",
   "execution_count": 127,
   "metadata": {},
   "outputs": [
    {
     "name": "stdout",
     "output_type": "stream",
     "text": [
      "10000/10000 [==============================] - 1s 124us/step\n"
     ]
    },
    {
     "data": {
      "text/plain": [
       "0.9118"
      ]
     },
     "execution_count": 127,
     "metadata": {},
     "output_type": "execute_result"
    }
   ],
   "source": [
    "evaluation = cnn_model.evaluate(X_test, y_test)\n",
    "evaluation[1]"
   ]
  },
  {
   "cell_type": "markdown",
   "metadata": {},
   "source": [
    "The key point is during training we reached about 95% accuracy. During testing we receive 91% accuracy. "
   ]
  },
  {
   "cell_type": "code",
   "execution_count": 128,
   "metadata": {},
   "outputs": [
    {
     "data": {
      "text/plain": [
       "array([0, 1, 2, ..., 8, 8, 1])"
      ]
     },
     "execution_count": 128,
     "metadata": {},
     "output_type": "execute_result"
    }
   ],
   "source": [
    "predict_classes = cnn_model.predict_classes(X_test)\n",
    "predict_classes"
   ]
  },
  {
   "cell_type": "markdown",
   "metadata": {},
   "source": [
    "Let's print a grid that will tell us here is the image with the predicted and actual labels."
   ]
  },
  {
   "cell_type": "code",
   "execution_count": 129,
   "metadata": {},
   "outputs": [
    {
     "data": {
      "image/png": "[encoded data removed]",
      "text/plain": [
       "<Figure size 864x864 with 25 Axes>"
      ]
     },
     "metadata": {
      "needs_background": "light"
     },
     "output_type": "display_data"
    }
   ],
   "source": [
    "L = 5\n",
    "W = 5\n",
    "fig, axes = plt.subplots(L, W, figsize = (12,12))\n",
    "axes = axes.ravel()\n",
    "\n",
    "for i in np.arange(0, L*W):\n",
    "    axes[i].imshow(X_test[i].reshape(28,28))\n",
    "    axes[i].set_title(\"Prediction Class = {:0.1f}\\n True Class = {:0.1f}\".format(predict_classes[i], y_test[i]))\n",
    "    axes[i].axis('off')\n",
    "    \n",
    "plt.subplots_adjust(wspace=0.5)"
   ]
  },
  {
   "cell_type": "code",
   "execution_count": 130,
   "metadata": {},
   "outputs": [
    {
     "data": {
      "text/plain": [
       "<matplotlib.axes._subplots.AxesSubplot at 0x7f812059d908>"
      ]
     },
     "execution_count": 130,
     "metadata": {},
     "output_type": "execute_result"
    },
    {
     "data": {
      "image/png": "[encoded data removed]",
      "text/plain": [
       "<Figure size 1008x720 with 2 Axes>"
      ]
     },
     "metadata": {
      "needs_background": "light"
     },
     "output_type": "display_data"
    }
   ],
   "source": [
    "from sklearn.metrics import confusion_matrix\n",
    "cm = confusion_matrix(y_test, predict_classes)\n",
    "plt.figure(figsize = (14,10))\n",
    "sns.heatmap(cm, annot=True)\n"
   ]
  },
  {
   "cell_type": "markdown",
   "metadata": {},
   "source": [
    "Gives an overview of how many classes have been classified correctly vs incorrectly"
   ]
  },
  {
   "cell_type": "code",
   "execution_count": 131,
   "metadata": {},
   "outputs": [
    {
     "name": "stdout",
     "output_type": "stream",
     "text": [
      "              precision    recall  f1-score   support\n",
      "\n",
      "     Class 0       0.80      0.90      0.84      1000\n",
      "     Class 1       0.98      0.99      0.98      1000\n",
      "     Class 2       0.90      0.83      0.86      1000\n",
      "     Class 3       0.94      0.89      0.91      1000\n",
      "     Class 4       0.87      0.89      0.88      1000\n",
      "     Class 5       0.98      0.97      0.98      1000\n",
      "     Class 6       0.77      0.75      0.76      1000\n",
      "     Class 7       0.96      0.96      0.96      1000\n",
      "     Class 8       0.98      0.97      0.98      1000\n",
      "     Class 9       0.95      0.98      0.96      1000\n",
      "\n",
      "   micro avg       0.91      0.91      0.91     10000\n",
      "   macro avg       0.91      0.91      0.91     10000\n",
      "weighted avg       0.91      0.91      0.91     10000\n",
      "\n"
     ]
    }
   ],
   "source": [
    "from sklearn.metrics import classification_report\n",
    "\n",
    "num_classes = 10\n",
    "target_names = [\"Class {}\".format(i) for i in range(num_classes)]\n",
    "\n",
    "print(classification_report(y_test, predict_classes, target_names = target_names))"
   ]
  },
  {
   "cell_type": "markdown",
   "metadata": {},
   "source": [
    "Precision and recall are interesting concepts. My preferred way to remember which is which is with this story:\n",
    "\n",
    "Suppose you are in a room with a giant bowl full of skittles, regular m&m's, and peanut m&m's. Also suppose you have a nephew coming over who loves candy but who also is highly allergic to peanuts. You decide to build a model that can classify whether or not a given sample (or candy) is a skittle, an m&m, or a peanut m&m. \n",
    "\n",
    "Precision is a measure of how often the model is correct when it predicts the positive class. That is, of the times the model said \"that's a peanut!\", how many of those times was it actually a peanut m&m. \n",
    "\n",
    "Recall is a measure of _comprehensiveness_. That is, of the peanut m&m's in the bowl, how many did the model identify? A naive model could in theory say \"that's a peanut\" on every sample. In that case the boy-who-cried-wolfness of the model would skyrocket, but you could be sure that you would find all of the peanut m&m's. This wouldn't be super useful if you were trying to give your nephew some peanut m&ms.\n",
    "\n",
    "A good data scientist can leverage precision and recall scores to find a model that doesn't \"cheat.\" That is, if I try to optimize only for high precision, my model will get more conservative and my recall score will fall. If I try to optimize only for high recall, my model will devolve into a boy-who-cried-peanut and the precision score will plummet. By taking both metrics into account we obtain the f1 score, which is the harmonic mean of precision and recall. In certain cases recall can be weighted more heavily than precision or vice-versa, which may or may not make sense depending on your use case. \n",
    "\n"
   ]
  },
  {
   "cell_type": "markdown",
   "metadata": {},
   "source": [
    "#### Improving the model."
   ]
  },
  {
   "cell_type": "markdown",
   "metadata": {},
   "source": [
    "Adding dropout (regularization to avoid overfitting); expanding the size of the kernel from 32 to maybe 64; "
   ]
  },
  {
   "cell_type": "markdown",
   "metadata": {},
   "source": [
    "Dropout will typically decrease the training accuracy but marginally increase the testing accuracy. Feature engineering for texture, fabric, shape, and style variables, length, color."
   ]
  },
  {
   "cell_type": "code",
   "execution_count": null,
   "metadata": {},
   "outputs": [],
   "source": []
  }
 ],
 "metadata": {
  "kernelspec": {
   "display_name": "Python 3",
   "language": "python",
   "name": "python3"
  },
  "language_info": {
   "codemirror_mode": {
    "name": "ipython",
    "version": 3
   },
   "file_extension": ".py",
   "mimetype": "text/x-python",
   "name": "python",
   "nbconvert_exporter": "python",
   "pygments_lexer": "ipython3",
   "version": "3.7.3"
  }
 },
 "nbformat": 4,
 "nbformat_minor": 2
}
